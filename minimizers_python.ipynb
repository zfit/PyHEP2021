{
 "cells": [
  {
   "cell_type": "markdown",
   "metadata": {
    "collapsed": true
   },
   "source": [
    "# Minimization with zfit\n",
    "\n",
    "zfit is a project that aims to establish a fitting framework in Python capabale enough to perform High Energy Physics analysis. The project focuses on two aspects:\n",
    " - fast and scalable fits\n",
    " - well defined workflow\n",
    "\n",
    "The first aspect is achieved by using a backend such as TensorFlow (or JAX in the future). There are dedicated tutorials available on this aspect but it is, for the beginning, not our first priority.\n",
    "\n",
    "The second aspect concerns the workflow, which is depicted below.\n",
    "\n",
    "![zfit workflow](images/zfit_workflow.png)\n",
    "\n",
    "After this, other libraries such as hepstats will pick up the elements created with zfit and do further statistical inference.\n",
    "\n",
    "For a user, the features of zfit and hepstats broadly include:\n",
    " - build complicated models in multiple dimensions allowing for composite models\n",
    " - strong support for custom created models in pure Python\n",
    " - (likelihood) minimization for unbinned (extended) fits including arbitrary constraints\n",
    " - sPlot and sWeights\n",
    " - Confidence Intervalls and significance calculation\n",
    "\n",
    "For a developer of a fitting (related) library, zfit aims to establish an ecosystem with a stable API and to provide base classes that allow to build on top; the focus is on a stable core, not on a lot of content in zfit."
   ]
  },
  {
   "cell_type": "markdown",
   "metadata": {},
   "source": [
    "## What is zfit and hepstats?\n",
    "\n",
    "To get an impression of what zfit and hepstats can do, we'll use a simple example to determine the upper limit of a signal."
   ]
  },
  {
   "cell_type": "code",
   "execution_count": 1,
   "metadata": {},
   "outputs": [
    {
     "name": "stderr",
     "output_type": "stream",
     "text": [
      "/home/jonas/anaconda3/envs/pyhep2021/lib/python3.9/site-packages/zfit/__init__.py:37: UserWarning: TensorFlow warnings are by default suppressed by zfit. In order to show them, set the environment variable ZFIT_DISABLE_TF_WARNINGS=0. In order to suppress the TensorFlow warnings AND this warning, set ZFIT_DISABLE_TF_WARNINGS=1.\n",
      "  warnings.warn(\"TensorFlow warnings are by default suppressed by zfit.\"\n"
     ]
    }
   ],
   "source": [
    "import zfit\n",
    "import hepstats\n",
    "import numpy as np\n",
    "import mplhep"
   ]
  },
  {
   "cell_type": "code",
   "execution_count": 2,
   "metadata": {},
   "outputs": [
    {
     "data": {
      "text/plain": [
       "[StairsArtists(stairs=<matplotlib.patches.StepPatch object at 0x7f28c863df40>, errorbar=None, legend_artist=None)]"
      ]
     },
     "execution_count": 2,
     "metadata": {},
     "output_type": "execute_result"
    },
    {
     "data": {
      "image/png": "[encoded data removed]",
      "text/plain": [
       "<Figure size 432x288 with 1 Axes>"
      ]
     },
     "metadata": {
      "needs_background": "light"
     },
     "output_type": "display_data"
    }
   ],
   "source": [
    "# create some data\n",
    "bounds = (0.1, 3.0)\n",
    "bkg = np.random.exponential(0.5, 300)\n",
    "peak = np.random.normal(1.2, 0.1, 10)\n",
    "data = np.concatenate((bkg, peak))\n",
    "data_np = data[(data > bounds[0]) & (data < bounds[1])]\n",
    "N = data.size\n",
    "\n",
    "mplhep.histplot(np.histogramdd(data, bins=50))"
   ]
  },
  {
   "cell_type": "markdown",
   "metadata": {},
   "source": [
    "## building the likelihood: model and data"
   ]
  },
  {
   "cell_type": "code",
   "execution_count": 3,
   "metadata": {},
   "outputs": [
    {
     "name": "stderr",
     "output_type": "stream",
     "text": [
      "2021-07-06 23:57:16.416630: I tensorflow/stream_executor/platform/default/dso_loader.cc:53] Successfully opened dynamic library libcuda.so.1\n",
      "2021-07-06 23:57:16.450338: I tensorflow/stream_executor/cuda/cuda_gpu_executor.cc:937] successful NUMA node read from SysFS had negative value (-1), but there must be at least one NUMA node, so returning NUMA node zero\n",
      "2021-07-06 23:57:16.450723: I tensorflow/core/common_runtime/gpu/gpu_device.cc:1733] Found device 0 with properties: \n",
      "pciBusID: 0000:01:00.0 name: Quadro P1000 computeCapability: 6.1\n",
      "coreClock: 1.5185GHz coreCount: 4 deviceMemorySize: 3.95GiB deviceMemoryBandwidth: 89.53GiB/s\n",
      "2021-07-06 23:57:16.450822: W tensorflow/stream_executor/platform/default/dso_loader.cc:64] Could not load dynamic library 'libcudart.so.11.0'; dlerror: libcudart.so.11.0: cannot open shared object file: No such file or directory\n",
      "2021-07-06 23:57:16.450899: W tensorflow/stream_executor/platform/default/dso_loader.cc:64] Could not load dynamic library 'libcublas.so.11'; dlerror: libcublas.so.11: cannot open shared object file: No such file or directory\n",
      "2021-07-06 23:57:16.450972: W tensorflow/stream_executor/platform/default/dso_loader.cc:64] Could not load dynamic library 'libcublasLt.so.11'; dlerror: libcublasLt.so.11: cannot open shared object file: No such file or directory\n",
      "2021-07-06 23:57:16.451044: W tensorflow/stream_executor/platform/default/dso_loader.cc:64] Could not load dynamic library 'libcufft.so.10'; dlerror: libcufft.so.10: cannot open shared object file: No such file or directory\n",
      "2021-07-06 23:57:16.451115: W tensorflow/stream_executor/platform/default/dso_loader.cc:64] Could not load dynamic library 'libcurand.so.10'; dlerror: libcurand.so.10: cannot open shared object file: No such file or directory\n",
      "2021-07-06 23:57:16.451191: W tensorflow/stream_executor/platform/default/dso_loader.cc:64] Could not load dynamic library 'libcusolver.so.11'; dlerror: libcusolver.so.11: cannot open shared object file: No such file or directory\n",
      "2021-07-06 23:57:16.451260: W tensorflow/stream_executor/platform/default/dso_loader.cc:64] Could not load dynamic library 'libcusparse.so.11'; dlerror: libcusparse.so.11: cannot open shared object file: No such file or directory\n",
      "2021-07-06 23:57:16.451328: W tensorflow/stream_executor/platform/default/dso_loader.cc:64] Could not load dynamic library 'libcudnn.so.8'; dlerror: libcudnn.so.8: cannot open shared object file: No such file or directory\n",
      "2021-07-06 23:57:16.451340: W tensorflow/core/common_runtime/gpu/gpu_device.cc:1766] Cannot dlopen some GPU libraries. Please make sure the missing libraries mentioned above are installed properly if you would like to use GPU. Follow the guide at https://www.tensorflow.org/install/gpu for how to download and setup the required libraries for your platform.\n",
      "Skipping registering GPU devices...\n",
      "2021-07-06 23:57:16.452373: I tensorflow/core/platform/cpu_feature_guard.cc:142] This TensorFlow binary is optimized with oneAPI Deep Neural Network Library (oneDNN) to use the following CPU instructions in performance-critical operations:  AVX2 FMA\n",
      "To enable them in other operations, rebuild TensorFlow with the appropriate compiler flags.\n",
      "2021-07-06 23:57:16.452816: I tensorflow/core/common_runtime/gpu/gpu_device.cc:1258] Device interconnect StreamExecutor with strength 1 edge matrix:\n",
      "2021-07-06 23:57:16.452831: I tensorflow/core/common_runtime/gpu/gpu_device.cc:1264]      \n",
      "2021-07-06 23:57:16.483915: I tensorflow/compiler/mlir/mlir_graph_optimization_pass.cc:176] None of the MLIR Optimization Passes are enabled (registered 2)\n",
      "2021-07-06 23:57:16.484569: I tensorflow/core/platform/profile_utils/cpu_utils.cc:114] CPU Frequency: 2599990000 Hz\n"
     ]
    },
    {
     "name": "stdout",
     "output_type": "stream",
     "text": [
      "FitResult of\n",
      "<ExtendedUnbinnedNLL model=[<zfit.<class 'zfit.models.functor.SumPDF'>  params=[Composed_autoparam_3, Composed_autoparam_4]] data=[<zfit.core.data.Data object at 0x7f28d53a9b50>] constraints=[]> \n",
      "with\n",
      "<Minuit Minuit tol=0.001>\n",
      "\n",
      "╒═════════╤═════════════╤══════════════════╤═════════╤═════════════╕\n",
      "│ valid   │ converged   │ param at limit   │ edm     │ min value   │\n",
      "╞═════════╪═════════════╪══════════════════╪═════════╪═════════════╡\n",
      "│ True    │ True        │ False            │ 1.8e-06 │ 1002        │\n",
      "╘═════════╧═════════════╧══════════════════╧═════════╧═════════════╛\n",
      "\n",
      "Parameters\n",
      "name      value    minuit_hesse    at limit\n",
      "------  -------  --------------  ----------\n",
      "Nsig        5.3     +/-     5.5       False\n",
      "Nbkg      246.7     +/-      16       False\n",
      "lambda   -1.988     +/-    0.14       False\n"
     ]
    }
   ],
   "source": [
    "obs = zfit.Space('x', limits=bounds)\n",
    "data = zfit.Data.from_numpy(obs=obs, array=data_np)\n",
    "\n",
    "# create the parameters\n",
    "lambda_ = zfit.Parameter(\"lambda\", -2.0, -4.0, -1.0)\n",
    "Nsig = zfit.Parameter(\"Nsig\", 1., -20., N)\n",
    "Nbkg = zfit.Parameter(\"Nbkg\", N, 0., N*1.1)\n",
    "\n",
    "# create the total model as a sum of two extended pdfs\n",
    "signal = zfit.pdf.Gauss(obs=obs, mu=1.2, sigma=0.1).create_extended(Nsig)\n",
    "background = zfit.pdf.Exponential(obs=obs, lambda_=lambda_).create_extended(Nbkg)\n",
    "model = zfit.pdf.SumPDF([signal, background])\n",
    "\n",
    "# loss function from model and data\n",
    "loss = zfit.loss.ExtendedUnbinnedNLL(model=model, data=data)\n",
    "\n",
    "# minimization (not required, just for demonstration)\n",
    "minimizer = zfit.minimize.Minuit()\n",
    "result = minimizer.minimize(loss)\n",
    "result.hesse()\n",
    "print(result)"
   ]
  },
  {
   "cell_type": "markdown",
   "metadata": {},
   "source": [
    "## Inference: setting an upper limit"
   ]
  },
  {
   "cell_type": "code",
   "execution_count": 5,
   "metadata": {},
   "outputs": [
    {
     "name": "stdout",
     "output_type": "stream",
     "text": [
      "Get fit best values!\n",
      "\n",
      "Get fitted values of the nuisance parameters for the alternative hypothesis!\n",
      "FitResult of\n",
      "<ExtendedUnbinnedNLL model=[<zfit.<class 'zfit.models.functor.SumPDF'>  params=[Composed_autoparam_3, Composed_autoparam_4]] data=[<zfit.core.data.Data object at 0x7f28d53a9b50>] constraints=[]> \n",
      "with\n",
      "<Minuit Minuit tol=0.001>\n",
      "\n",
      "╒═════════╤═════════════╤══════════════════╤═════════╤═════════════╕\n",
      "│ valid   │ converged   │ param at limit   │ edm     │ min value   │\n",
      "╞═════════╪═════════════╪══════════════════╪═════════╪═════════════╡\n",
      "│ True    │ True        │ False            │ 9.9e-05 │ 1002        │\n",
      "╘═════════╧═════════════╧══════════════════╧═════════╧═════════════╛\n",
      "\n",
      "Parameters\n",
      "name      value    at limit\n",
      "------  -------  ----------\n",
      "Nbkg      251.8       False\n",
      "lambda   -1.933       False\n",
      "\n",
      "Observed upper limit: Nsig = 15.951080987478734\n",
      "Expected upper limit: Nsig = 11.270136679238199\n",
      "Expected upper limit +1 sigma: Nsig = 16.459745229897027\n",
      "Expected upper limit -1 sigma: Nsig = 7.8372845095715755\n",
      "Expected upper limit +2 sigma: Nsig = 23.357891175251147\n",
      "Expected upper limit -2 sigma: Nsig = 5.701090917576093\n"
     ]
    },
    {
     "data": {
      "text/plain": [
       "{'observed': 15.951080987478734,\n",
       " 'expected': 11.270136679238199,\n",
       " 'expected_p1': 16.459745229897027,\n",
       " 'expected_m1': 7.8372845095715755,\n",
       " 'expected_p2': 23.357891175251147,\n",
       " 'expected_m2': 5.701090917576093}"
      ]
     },
     "execution_count": 5,
     "metadata": {},
     "output_type": "execute_result"
    }
   ],
   "source": [
    "from hepstats.hypotests.calculators import AsymptoticCalculator\n",
    "from hepstats.hypotests import UpperLimit\n",
    "from hepstats.hypotests.parameters import POI, POIarray\n",
    "\n",
    "# Use the loss and minimizer from zfit\n",
    "calculator = AsymptoticCalculator(loss, minimizer, asimov_bins=100)\n",
    "\n",
    "# define null and alternative hypothesis\n",
    "poinull = POIarray(Nsig, np.linspace(0.0, 50, 40))\n",
    "poialt = POI(Nsig, 0)\n",
    "ul = UpperLimit(calculator, poinull, poialt)\n",
    "ul.upperlimit(alpha=0.05, CLs=True)"
   ]
  },
  {
   "cell_type": "markdown",
   "metadata": {},
   "source": [
    "Pretty simpel. But before we will have a deeper look into the components and better understand the libraries, we will focus on recent news in zfit: minimizers.\n",
    "\n",
    "## Minimization: API and workflow\n",
    "\n",
    "The workflow of zfit is designed that each stage is maximally decoupled and can be used as standalone as possible.\n",
    "\n",
    "**You don't need to use zfit to use zfit.** But you can use the pieces that you want to.\n",
    "\n",
    "*(this has it's limits: if we don't use zfit models in the loss, most hepstat functionality won't work: the one that relies on knowing the API of the model. But it's easy to implement your function in a zfit model.)*\n",
    "\n"
   ]
  },
  {
   "cell_type": "code",
   "execution_count": null,
   "metadata": {},
   "outputs": [],
   "source": [
    "# set everything to numpy mode (if anything else than zfit.z is used)\n",
    "zfit.run.set_autograd_mode(False)\n",
    "zfit.run.set_graph_mode(False)"
   ]
  },
  {
   "cell_type": "code",
   "execution_count": 7,
   "metadata": {},
   "outputs": [
    {
     "name": "stdout",
     "output_type": "stream",
     "text": [
      "FitResult of\n",
      "<SimpleLoss model=[] data=[] constraints=[]> \n",
      "with\n",
      "<Minuit Minuit tol=0.001>\n",
      "\n",
      "╒═════════╤═════════════╤══════════════════╤═════════╤═════════════╕\n",
      "│ valid   │ converged   │ param at limit   │ edm     │ min value   │\n",
      "╞═════════╪═════════════╪══════════════════╪═════════╪═════════════╡\n",
      "│ True    │ True        │ False            │ 0.00015 │ 0.0005689   │\n",
      "╘═════════╧═════════════╧══════════════════╧═════════╧═════════════╛\n",
      "\n",
      "Parameters\n",
      "name            value    minuit_hesse         minuit_minos    at limit\n",
      "------------  -------  --------------  -------------------  ----------\n",
      "autoparam_10  0.09903     +/-    0.71  -   0.71   +   0.71       False\n",
      "autoparam_11   0.0916     +/-    0.63  -   0.54   +   0.42       False\n",
      "autoparam_12  0.09794     +/-    0.71  -   0.71   +   0.71       False\n",
      "autoparam_13  0.09859     +/-    0.71  -   0.71   +   0.71       False\n",
      "autoparam_14   0.0882     +/-    0.71  -    0.7   +   0.72       False\n"
     ]
    }
   ],
   "source": [
    "# create a problem\n",
    "def func(x):\n",
    "    x = np.array(x)  # make sure it's an array\n",
    "    return np.sum((x - 0.1) ** 2 + x[1] ** 4)\n",
    "\n",
    "# we need to set the errordef\n",
    "func.errordef = 0.5\n",
    "\n",
    "# initial parameters\n",
    "params = [1, -3, 2, 1.4, 11]\n",
    "\n",
    "# create our favorite minimizer\n",
    "minimizer = zfit.minimize.Minuit()\n",
    "\n",
    "# minimize\n",
    "result = minimizer.minimize(func, params)\n",
    "\n",
    "# estimate errors\n",
    "result.hesse()\n",
    "result.errors(method='minuit_minos')\n",
    "print(result)"
   ]
  },
  {
   "cell_type": "markdown",
   "metadata": {},
   "source": [
    "### Why do we need more minimizers?\n",
    "\n",
    "There are many good minimizers (iminuit, SciPy, ...) out there. So why even consider to implement something new?\n",
    "\n",
    "zfit merely wraps existing minimizers with the goal of a clean interface and behavior.\n",
    "There are essentially two parts of a minimizer:\n",
    " - Configuration of the algorithm: this depends a lot on the chosen algorithm (trust radius, hessian approximation, ...)\n",
    " - minimization: independent of the algorithm. Needs a function, initial parameters (and more information on the function)\n",
    "\n",
    "This led to two design choices:\n",
    " - every minimizer is a class and the initializer takes the configuration and has its own documentation *but knows nothing about the minimization function*\n",
    " - one method `minimize` which takes the function *but no configuration of the algorithm*\n",
    "\n",
    "Therefore, the minimizers in zfit are naturally stateless and can be interchanged *without changing the rest of the script*. They are a \"configuration holding class\".\n",
    "\n",
    "**Not obvious (and not the only possible) choices.**\n",
    "\n",
    "**iminuit** is stateful: more massaging around with the function minimization and more (efficient) functionality that can use the full state information *(->custom minimizer in zfit)*\n",
    "**SciPy** mixes both into one function: design choice that leads to cluttered interface as everything is mixed together ([here](https://github.com/scipy/scipy/issues/13524) or [here](https://github.com/scipy/scipy/issues/13754))\n",
    "\n",
    "Most minimizers do not offer the combination of\n",
    " - gradients\n",
    " - arbitrary constraints\n",
    " - unified and solid termination criteria\n",
    " - (uncertainty estimation)\n",
    "\n",
    "**This is the role that zfit minimizers fulfill**"
   ]
  },
  {
   "cell_type": "markdown",
   "metadata": {},
   "source": [
    "## zfit minimizer creation\n",
    "\n",
    "Every minimizer [can take arbitrary arguments](https://zfit.readthedocs.io/en/latest/user_api/minimize/minimizers.html#minimizers), but there are many shared ones, such as:\n",
    " - tol: tolerance for which to terminate the minimization\n",
    " - verbosity (from 0 to 10): the verbosity of the minimizer\n",
    " - gradient (if available): `False` or `'zfit'` uses internal gradients (numerically if needed), `True` or other allowed values use the minimizers own gradient function\n",
    " - criterion: convergence criterion (default EDM)\n",
    " - maxiter: approximate number of function evaluations\n",
    " - strategy: zfit strategy to deal with NaNs\n",
    "\n",
    "We can now create a minimizer of our choice"
   ]
  },
  {
   "cell_type": "code",
   "execution_count": 10,
   "metadata": {},
   "outputs": [],
   "source": [
    "# create our favorite minimizer\n",
    "# minimizer = zfit.minimize.IpyoptV1()\n",
    "# minimizer = zfit.minimize.Minuit()\n",
    "minimizer = zfit.minimize.ScipyTrustConstrV1()\n",
    "# minimizer = zfit.minimize.NLoptLBFGSV1()"
   ]
  },
  {
   "cell_type": "markdown",
   "metadata": {},
   "source": [
    "Done. Now we can see how to minimize the function. Therefore we need a loss.\n",
    "\n",
    "## zfit \"loss\"\n",
    "\n",
    "Minimizers accept anything that:\n",
    " - takes one positional argument, the array of values to evaluate the loss function at and returns the function value\n",
    " - has an attribute `errordef`\n",
    "\n",
    "A zfit loss already fulfils this criteria."
   ]
  },
  {
   "cell_type": "markdown",
   "metadata": {},
   "source": [
    "### intermezzo: iminuit\n",
    "\n",
    "iminuit accepts the same functions! So anything that you want to minimize with zfit also works with iminuit out-of-the-box.\n",
    "\n",
    "A zfit loss can be called with an array of elements, where the order corresponds to the return value of `get_params()`. Let's re-use the loss we built above and try it out"
   ]
  },
  {
   "cell_type": "code",
   "execution_count": 26,
   "metadata": {},
   "outputs": [
    {
     "data": {
      "text/plain": [
       "OrderedSet([<zfit.Parameter 'Nsig' floating=True value=5.372>, <zfit.Parameter 'Nbkg' floating=True value=234>, <zfit.Parameter 'lambda' floating=True value=-2.135>])"
      ]
     },
     "execution_count": 26,
     "metadata": {},
     "output_type": "execute_result"
    }
   ],
   "source": [
    "loss.get_params()"
   ]
  },
  {
   "cell_type": "code",
   "execution_count": 28,
   "metadata": {},
   "outputs": [
    {
     "data": {
      "text/html": [
       "<table>\n",
       "    <tr>\n",
       "        <th colspan=\"5\" style=\"text-align:center\" title=\"Minimizer\"> Migrad </th>\n",
       "    </tr>\n",
       "    <tr>\n",
       "        <td colspan=\"2\" style=\"text-align:left\" title=\"Minimum value of function\"> FCN = 1002 </td>\n",
       "        <td colspan=\"3\" style=\"text-align:center\" title=\"No. of function evaluations in last call and total number\"> Nfcn = 55 </td>\n",
       "    </tr>\n",
       "    <tr>\n",
       "        <td colspan=\"2\" style=\"text-align:left\" title=\"Estimated distance to minimum and goal\"> EDM = 3.83e-05 (Goal: 0.0001) </td>\n",
       "        <td colspan=\"3\" style=\"text-align:center\" title=\"No. of gradient evaluations in last call and total number\">  </td>\n",
       "    </tr>\n",
       "    <tr>\n",
       "        <td colspan=\"2\" style=\"text-align:center;background-color:#92CCA6;color:black\"> Valid Minimum </td>\n",
       "        <td colspan=\"3\" style=\"text-align:center;background-color:#92CCA6;color:black\"> No Parameters at limit </td>\n",
       "    </tr>\n",
       "    <tr>\n",
       "        <td colspan=\"2\" style=\"text-align:center;background-color:#92CCA6;color:black\"> Below EDM threshold (goal x 10) </td>\n",
       "        <td colspan=\"3\" style=\"text-align:center;background-color:#92CCA6;color:black\"> Below call limit </td>\n",
       "    </tr>\n",
       "    <tr>\n",
       "        <td style=\"text-align:center;background-color:#92CCA6;color:black\"> Covariance </td>\n",
       "        <td style=\"text-align:center;background-color:#92CCA6;color:black\"> Hesse ok </td>\n",
       "        <td style=\"text-align:center;background-color:#92CCA6;color:black\" title=\"Is covariance matrix accurate?\"> Accurate </td>\n",
       "        <td style=\"text-align:center;background-color:#92CCA6;color:black\" title=\"Is covariance matrix positive definite?\"> Pos. def. </td>\n",
       "        <td style=\"text-align:center;background-color:#92CCA6;color:black\" title=\"Was positive definiteness enforced by Minuit?\"> Not forced </td>\n",
       "    </tr>\n",
       "</table><table>\n",
       "    <tr>\n",
       "        <td></td>\n",
       "        <th title=\"Variable name\"> Name </th>\n",
       "        <th title=\"Value of parameter\"> Value </th>\n",
       "        <th title=\"Hesse error\"> Hesse Error </th>\n",
       "        <th title=\"Minos lower error\"> Minos Error- </th>\n",
       "        <th title=\"Minos upper error\"> Minos Error+ </th>\n",
       "        <th title=\"Lower limit of the parameter\"> Limit- </th>\n",
       "        <th title=\"Upper limit of the parameter\"> Limit+ </th>\n",
       "        <th title=\"Is the parameter fixed in the fit\"> Fixed </th>\n",
       "    </tr>\n",
       "    <tr>\n",
       "        <th> 0 </th>\n",
       "        <td> x0 </td>\n",
       "        <td> 5 </td>\n",
       "        <td> 6 </td>\n",
       "        <td>  </td>\n",
       "        <td>  </td>\n",
       "        <td>  </td>\n",
       "        <td>  </td>\n",
       "        <td>  </td>\n",
       "    </tr>\n",
       "    <tr>\n",
       "        <th> 1 </th>\n",
       "        <td> x1 </td>\n",
       "        <td> 247 </td>\n",
       "        <td> 17 </td>\n",
       "        <td>  </td>\n",
       "        <td>  </td>\n",
       "        <td>  </td>\n",
       "        <td>  </td>\n",
       "        <td>  </td>\n",
       "    </tr>\n",
       "    <tr>\n",
       "        <th> 2 </th>\n",
       "        <td> x2 </td>\n",
       "        <td> -1.99 </td>\n",
       "        <td> 0.14 </td>\n",
       "        <td>  </td>\n",
       "        <td>  </td>\n",
       "        <td>  </td>\n",
       "        <td>  </td>\n",
       "        <td>  </td>\n",
       "    </tr>\n",
       "</table><table>\n",
       "    <tr>\n",
       "        <td></td>\n",
       "        <th> x0 </th>\n",
       "        <th> x1 </th>\n",
       "        <th> x2 </th>\n",
       "    </tr>\n",
       "    <tr>\n",
       "        <th> x0 </th>\n",
       "        <td> 30.4 </td>\n",
       "        <td style=\"background-color:rgb(214,214,250);color:black\"> -24.9 <strong>(-0.275)</strong> </td>\n",
       "        <td style=\"background-color:rgb(206,206,250);color:black\"> -0.266 <strong>(-0.335)</strong> </td>\n",
       "    </tr>\n",
       "    <tr>\n",
       "        <th> x1 </th>\n",
       "        <td style=\"background-color:rgb(214,214,250);color:black\"> -24.9 <strong>(-0.275)</strong> </td>\n",
       "        <td> 271 </td>\n",
       "        <td style=\"background-color:rgb(250,233,233);color:black\"> 0.265 <strong>(0.112)</strong> </td>\n",
       "    </tr>\n",
       "    <tr>\n",
       "        <th> x2 </th>\n",
       "        <td style=\"background-color:rgb(206,206,250);color:black\"> -0.266 <strong>(-0.335)</strong> </td>\n",
       "        <td style=\"background-color:rgb(250,233,233);color:black\"> 0.265 <strong>(0.112)</strong> </td>\n",
       "        <td> 0.0207 </td>\n",
       "    </tr>\n",
       "</table>"
      ],
      "text/plain": [
       "┌─────────────────────────────────────────────────────────────────────────┐\n",
       "│                                Migrad                                   │\n",
       "├──────────────────────────────────┬──────────────────────────────────────┤\n",
       "│ FCN = 1002                       │              Nfcn = 55               │\n",
       "│ EDM = 3.83e-05 (Goal: 0.0001)    │                                      │\n",
       "├──────────────────────────────────┼──────────────────────────────────────┤\n",
       "│          Valid Minimum           │        No Parameters at limit        │\n",
       "├──────────────────────────────────┼──────────────────────────────────────┤\n",
       "│ Below EDM threshold (goal x 10)  │           Below call limit           │\n",
       "├───────────────┬──────────────────┼───────────┬─────────────┬────────────┤\n",
       "│  Covariance   │     Hesse ok     │ Accurate  │  Pos. def.  │ Not forced │\n",
       "└───────────────┴──────────────────┴───────────┴─────────────┴────────────┘\n",
       "┌───┬──────┬───────────┬───────────┬────────────┬────────────┬─────────┬─────────┬───────┐\n",
       "│   │ Name │   Value   │ Hesse Err │ Minos Err- │ Minos Err+ │ Limit-  │ Limit+  │ Fixed │\n",
       "├───┼──────┼───────────┼───────────┼────────────┼────────────┼─────────┼─────────┼───────┤\n",
       "│ 0 │ x0   │     5     │     6     │            │            │         │         │       │\n",
       "│ 1 │ x1   │    247    │    17     │            │            │         │         │       │\n",
       "│ 2 │ x2   │   -1.99   │   0.14    │            │            │         │         │       │\n",
       "└───┴──────┴───────────┴───────────┴────────────┴────────────┴─────────┴─────────┴───────┘\n",
       "┌────┬──────────────────────┐\n",
       "│    │     x0     x1     x2 │\n",
       "├────┼──────────────────────┤\n",
       "│ x0 │   30.4  -24.9 -0.266 │\n",
       "│ x1 │  -24.9    271  0.265 │\n",
       "│ x2 │ -0.266  0.265 0.0207 │\n",
       "└────┴──────────────────────┘"
      ]
     },
     "execution_count": 28,
     "metadata": {},
     "output_type": "execute_result"
    }
   ],
   "source": [
    "from iminuit import Minuit\n",
    "\n",
    "minuit = Minuit(loss, [10, 250, -2.5])\n",
    "minuit.migrad()"
   ]
  },
  {
   "cell_type": "markdown",
   "metadata": {},
   "source": [
    "### the minimize method\n",
    "\n",
    "Minimize takes exactly three arguments:\n",
    " - loss: the function to minimize\n",
    " - params: information about the parameters such as starting point\n",
    " - init (optional): a `FitResult` from a previous minimization that contains additional infromation"
   ]
  },
  {
   "cell_type": "code",
   "execution_count": 31,
   "metadata": {},
   "outputs": [
    {
     "name": "stdout",
     "output_type": "stream",
     "text": [
      "FitResult of\n",
      "<SimpleLoss model=[] data=[] constraints=[]> \n",
      "with\n",
      "<ScipyTrustConstrV1 SciPy trust-constr V1 tol=0.001>\n",
      "\n",
      "╒═════════╤═════════════╤══════════════════╤═════════╤═════════════╕\n",
      "│ valid   │ converged   │ param at limit   │ edm     │ min value   │\n",
      "╞═════════╪═════════════╪══════════════════╪═════════╪═════════════╡\n",
      "│ True    │ True        │ False            │ 2.6e-05 │ 0.0002956   │\n",
      "╘═════════╧═════════════╧══════════════════╧═════════╧═════════════╛\n",
      "\n",
      "Parameters\n",
      "name      value    at limit\n",
      "------  -------  ----------\n",
      "a       0.09516       False\n",
      "b       0.09583       False\n",
      "c       0.09866       False\n"
     ]
    }
   ],
   "source": [
    "# for a more fine-grained control\n",
    "params = {\n",
    "    'value': [1, -3, 2],  # mandatory\n",
    "    'lower': [-2, -5, -5],  # lower bound, optional\n",
    "    'upper': [2, 4, 5],  # upper bound, optional\n",
    "    'step_size': [0.1] * 3,  # initial step size, optional\n",
    "    'name': ['a', 'b', 'c']  # names, optional\n",
    "}\n",
    "\n",
    "# minimize\n",
    "result = minimizer.minimize(func, params)\n",
    "print(result)"
   ]
  },
  {
   "cell_type": "markdown",
   "metadata": {},
   "source": [
    "### Comparable criterion\n",
    "\n",
    "As we've seen, we can fully mix or swap minimizers in zfit and use the same code for the minimization.\n",
    "\n",
    "The result shows also an \"edm\", the Estimated Distance to Minimum, which is also the criterion used by iminuit. zfit minimizers use by default the same, which makes results comparable.\n",
    "\n",
    "However, this criterion needs the (approximate) inverse Hessian matrix and therefore can be quite slow to compute in general, especially if the minimizer does not provide an approximation (if they do, this is used). More criteria are welcome to be added to zfit!"
   ]
  },
  {
   "cell_type": "markdown",
   "metadata": {},
   "source": [
    "## FitResult\n",
    "\n",
    "The return value is a FitResult. While there are already a few standards, such as Scipys OptimizeResult, zfits FitResult is more powerful: it also contains uncertainty calculations, both a hessian approximation as well as a profiling method (\"minos\").\n",
    "\n",
    "But first, lets look at a few useful flags."
   ]
  },
  {
   "cell_type": "code",
   "execution_count": 46,
   "metadata": {},
   "outputs": [
    {
     "data": {
      "text/plain": [
       "True"
      ]
     },
     "execution_count": 46,
     "metadata": {},
     "output_type": "execute_result"
    }
   ],
   "source": [
    "result.valid  # tells if the fit is valid: converged, not at limits etc"
   ]
  },
  {
   "cell_type": "code",
   "execution_count": 48,
   "metadata": {},
   "outputs": [
    {
     "data": {
      "text/plain": [
       "0.00029560056005886753"
      ]
     },
     "execution_count": 48,
     "metadata": {},
     "output_type": "execute_result"
    }
   ],
   "source": [
    "result.fmin  # minimum value"
   ]
  },
  {
   "cell_type": "code",
   "execution_count": 53,
   "metadata": {},
   "outputs": [
    {
     "data": {
      "text/plain": [
       "{<zfit.Parameter 'a' floating=True value=0.09516>: {'value': 0.0951616473148872, 'minuit_hesse': {'error': 0.7070661439265744, 'cl': 0.68268949}, 'hesse_np': {'error': 0.7071067780639626, 'cl': 0.68268949}, 'hesse_90cl': {'error': 1.1630871536766714, 'cl': 0.9}, 'zfit_error': {'lower': -0.7022870697263754, 'upper': 0.7119636327155465, 'cl': 0.68268949}, 'minuit_minos': {'lower': -0.7022874781379412, 'upper': 0.7119617569082848, 'is_valid': True, 'upper_valid': True, 'lower_valid': True, 'at_lower_limit': False, 'at_upper_limit': False, 'nfcn': 66, 'original': <MError number=0 name='a' lower=-0.7022874781379412 upper=0.7119617569082848 is_valid=True lower_valid=True upper_valid=True at_lower_limit=False at_upper_limit=False at_lower_max_fcn=False at_upper_max_fcn=False lower_new_min=False upper_new_min=False nfcn=66 min=0.09516164731488708>, 'cl': 0.68268949}}, <zfit.Parameter 'b' floating=True value=0.09583>: {'value': 0.09582640373782722, 'minuit_hesse': {'error': 0.6550499294695796, 'cl': 0.68268949}, 'hesse_np': {'error': 0.6550406508956643, 'cl': 0.68268949}, 'hesse_90cl': {'error': 1.077445995184388, 'cl': 0.9}, 'zfit_error': {'lower': -0.5776861080211977, 'upper': 0.4620699418212765, 'cl': 0.68268949}, 'minuit_minos': {'lower': -0.5776860814892327, 'upper': 0.4620626405231978, 'is_valid': True, 'upper_valid': True, 'lower_valid': True, 'at_lower_limit': False, 'at_upper_limit': False, 'nfcn': 96, 'original': <MError number=1 name='b' lower=-0.5776860814892327 upper=0.4620626405231978 is_valid=True lower_valid=True upper_valid=True at_lower_limit=False at_upper_limit=False at_lower_max_fcn=False at_upper_max_fcn=False lower_new_min=False upper_new_min=False nfcn=96 min=0.09582640373782603>, 'cl': 0.68268949}}, <zfit.Parameter 'c' floating=True value=0.09866>: {'value': 0.09865609567893481, 'minuit_hesse': {'error': 0.7071049295847414, 'cl': 0.68268949}, 'hesse_np': {'error': 0.7071067780639626, 'cl': 0.68268949}, 'hesse_90cl': {'error': 1.1630871536766714, 'cl': 0.9}, 'zfit_error': {'lower': -0.7057810866442744, 'upper': 0.708469186025131, 'cl': 0.68268949}, 'minuit_minos': {'lower': -0.705779536662979, 'upper': 0.7084692361598834, 'is_valid': True, 'upper_valid': True, 'lower_valid': True, 'at_lower_limit': False, 'at_upper_limit': False, 'nfcn': 47, 'original': <MError number=2 name='c' lower=-0.705779536662979 upper=0.7084692361598834 is_valid=True lower_valid=True upper_valid=True at_lower_limit=False at_upper_limit=False at_lower_max_fcn=False at_upper_max_fcn=False lower_new_min=False upper_new_min=False nfcn=47 min=0.09865609567893507>, 'cl': 0.68268949}}}"
      ]
     },
     "execution_count": 53,
     "metadata": {},
     "output_type": "execute_result"
    }
   ],
   "source": [
    "result.params  # the parameters in a dict-like form (use print for a nice view)"
   ]
  },
  {
   "cell_type": "code",
   "execution_count": 55,
   "metadata": {},
   "outputs": [
    {
     "data": {
      "text/plain": [
       "{'n_eval': 19,\n",
       " 'n_iter': 19,\n",
       " 'niter': 19,\n",
       " 'grad': array([-0.00967671,  0.00221215, -0.00268781]),\n",
       " 'inv_hesse': None,\n",
       " 'hesse': None,\n",
       " 'message': None,\n",
       " 'evaluator': <zfit.minimizers.evaluation.LossEval at 0x7f28845cd130>,\n",
       " 'original':  barrier_parameter: 0.020000000000000004\n",
       "  barrier_tolerance: 0.020000000000000004\n",
       "           cg_niter: 49\n",
       "       cg_stop_cond: 4\n",
       "             constr: [array([0.09516165, 0.0958264 , 0.0986561 ])]\n",
       "        constr_nfev: [0]\n",
       "        constr_nhev: [0]\n",
       "        constr_njev: [0]\n",
       "     constr_penalty: 1.0\n",
       "   constr_violation: 0.0\n",
       "     execution_time: 2.1780712604522705\n",
       "                fun: 0.00029560056005886753\n",
       "               grad: array([-0.00967671,  0.00221215, -0.00268781])\n",
       "                jac: [<3x3 sparse matrix of type '<class 'numpy.float64'>'\n",
       " \twith 3 stored elements in Compressed Sparse Row format>]\n",
       "    lagrangian_grad: array([-0.0058021 ,  0.00308853, -0.00234229])\n",
       "            message: '`gtol` termination condition is satisfied.'\n",
       "             method: 'tr_interior_point'\n",
       "               nfev: 19\n",
       "               nhev: 0\n",
       "                nit: 20\n",
       "              niter: 20\n",
       "               njev: 19\n",
       "         optimality: 0.005802101107775735\n",
       "             status: 1\n",
       "            success: True\n",
       "          tr_radius: 32.92528728923704\n",
       "                  v: [array([0.0038746 , 0.00087638, 0.00034551])]\n",
       "                  x: array([0.09516165, 0.0958264 , 0.0986561 ])}"
      ]
     },
     "execution_count": 55,
     "metadata": {},
     "output_type": "execute_result"
    }
   ],
   "source": [
    "result.info  # contains (non everything is guaranteed) additional infromation including the \"original\" result"
   ]
  },
  {
   "cell_type": "markdown",
   "metadata": {},
   "source": [
    "### Uncertainty estimation\n",
    "\n",
    "The `FitResult` implements, for both the hessian and profiling, the exposed iminuit error methods as well as pure Python implementations (standalone, independent of iminuit)."
   ]
  },
  {
   "cell_type": "code",
   "execution_count": 33,
   "metadata": {},
   "outputs": [
    {
     "data": {
      "text/plain": [
       "{<zfit.Parameter 'a' floating=True value=0.09516>: {'error': 0.7071067780639626,\n",
       "  'cl': 0.68268949},\n",
       " <zfit.Parameter 'b' floating=True value=0.09583>: {'error': 0.6550406508956643,\n",
       "  'cl': 0.68268949},\n",
       " <zfit.Parameter 'c' floating=True value=0.09866>: {'error': 0.7071067780639626,\n",
       "  'cl': 0.68268949}}"
      ]
     },
     "execution_count": 33,
     "metadata": {},
     "output_type": "execute_result"
    }
   ],
   "source": [
    "result.hesse(method='minuit_hesse')"
   ]
  },
  {
   "cell_type": "code",
   "execution_count": 34,
   "metadata": {},
   "outputs": [
    {
     "data": {
      "text/plain": [
       "{<zfit.Parameter 'a' floating=True value=0.09516>: {'error': 0.7071067780639626,\n",
       "  'cl': 0.68268949},\n",
       " <zfit.Parameter 'b' floating=True value=0.09583>: {'error': 0.6550406508956643,\n",
       "  'cl': 0.68268949},\n",
       " <zfit.Parameter 'c' floating=True value=0.09866>: {'error': 0.7071067780639626,\n",
       "  'cl': 0.68268949}}"
      ]
     },
     "execution_count": 34,
     "metadata": {},
     "output_type": "execute_result"
    }
   ],
   "source": [
    "result.hesse(method='hesse_np')"
   ]
  },
  {
   "cell_type": "code",
   "execution_count": 35,
   "metadata": {},
   "outputs": [
    {
     "name": "stdout",
     "output_type": "stream",
     "text": [
      "FitResult of\n",
      "<SimpleLoss model=[] data=[] constraints=[]> \n",
      "with\n",
      "<ScipyTrustConstrV1 SciPy trust-constr V1 tol=0.001>\n",
      "\n",
      "╒═════════╤═════════════╤══════════════════╤═════════╤═════════════╕\n",
      "│ valid   │ converged   │ param at limit   │ edm     │ min value   │\n",
      "╞═════════╪═════════════╪══════════════════╪═════════╪═════════════╡\n",
      "│ True    │ True        │ False            │ 2.6e-05 │ 0.0002956   │\n",
      "╘═════════╧═════════════╧══════════════════╧═════════╧═════════════╛\n",
      "\n",
      "Parameters\n",
      "name      value    minuit_hesse     hesse_np    at limit\n",
      "------  -------  --------------  -----------  ----------\n",
      "a       0.09516     +/-    0.71  +/-    0.71       False\n",
      "b       0.09583     +/-    0.66  +/-    0.66       False\n",
      "c       0.09866     +/-    0.71  +/-    0.71       False\n"
     ]
    }
   ],
   "source": [
    "print(result)"
   ]
  },
  {
   "cell_type": "markdown",
   "metadata": {},
   "source": [
    "Both uncertainties have been added to the result.\n",
    "\n",
    "We can also choose a different name and a differenc cl!"
   ]
  },
  {
   "cell_type": "code",
   "execution_count": 37,
   "metadata": {},
   "outputs": [
    {
     "name": "stdout",
     "output_type": "stream",
     "text": [
      "FitResult of\n",
      "<SimpleLoss model=[] data=[] constraints=[]> \n",
      "with\n",
      "<ScipyTrustConstrV1 SciPy trust-constr V1 tol=0.001>\n",
      "\n",
      "╒═════════╤═════════════╤══════════════════╤═════════╤═════════════╕\n",
      "│ valid   │ converged   │ param at limit   │ edm     │ min value   │\n",
      "╞═════════╪═════════════╪══════════════════╪═════════╪═════════════╡\n",
      "│ True    │ True        │ False            │ 2.6e-05 │ 0.0002956   │\n",
      "╘═════════╧═════════════╧══════════════════╧═════════╧═════════════╛\n",
      "\n",
      "Parameters\n",
      "name      value    minuit_hesse     hesse_np    hesse_90cl    at limit\n",
      "------  -------  --------------  -----------  ------------  ----------\n",
      "a       0.09516     +/-    0.71  +/-    0.71   +/-     1.2       False\n",
      "b       0.09583     +/-    0.66  +/-    0.66   +/-     1.1       False\n",
      "c       0.09866     +/-    0.71  +/-    0.71   +/-     1.2       False\n"
     ]
    }
   ],
   "source": [
    "result.hesse(method='hesse_np', name='hesse_90cl', cl=0.9)\n",
    "print(result)"
   ]
  },
  {
   "cell_type": "markdown",
   "metadata": {},
   "source": [
    "We can also use the profiling methods in the same manner. Note that this returns two values: the errors in a dict as well as a new `FitResult` (in case a new minimum was found, otherwise `None`).\n",
    "\n",
    "`errors` takes also a name and a cl argument."
   ]
  },
  {
   "cell_type": "code",
   "execution_count": 41,
   "metadata": {},
   "outputs": [
    {
     "name": "stderr",
     "output_type": "stream",
     "text": [
      "/home/jonas/anaconda3/envs/pyhep2021/lib/python3.9/site-packages/tensorflow/python/util/deprecation.py:535: ExperimentalFeatureWarning: 'zfit_error' is still rather new. If it fails, please report it here: https://github.com/zfit/zfit/issues/new?assignees=&labels=bug&template=bug_report.md&title=zfit%20error%20fails.\n",
      "  return func(*args, **kwargs)\n"
     ]
    },
    {
     "name": "stdout",
     "output_type": "stream",
     "text": [
      "FitResult of\n",
      "<SimpleLoss model=[] data=[] constraints=[]> \n",
      "with\n",
      "<ScipyTrustConstrV1 SciPy trust-constr V1 tol=0.001>\n",
      "\n",
      "╒═════════╤═════════════╤══════════════════╤═════════╤═════════════╕\n",
      "│ valid   │ converged   │ param at limit   │ edm     │ min value   │\n",
      "╞═════════╪═════════════╪══════════════════╪═════════╪═════════════╡\n",
      "│ True    │ True        │ False            │ 2.6e-05 │ 0.0002956   │\n",
      "╘═════════╧═════════════╧══════════════════╧═════════╧═════════════╛\n",
      "\n",
      "Parameters\n",
      "name      value    minuit_hesse     hesse_np    hesse_90cl           zfit_error         minuit_minos    at limit\n",
      "------  -------  --------------  -----------  ------------  -------------------  -------------------  ----------\n",
      "a       0.09516     +/-    0.71  +/-    0.71   +/-     1.2  -    0.7   +   0.71  -    0.7   +   0.71       False\n",
      "b       0.09583     +/-    0.66  +/-    0.66   +/-     1.1  -   0.58   +   0.46  -   0.58   +   0.46       False\n",
      "c       0.09866     +/-    0.71  +/-    0.71   +/-     1.2  -   0.71   +   0.71  -   0.71   +   0.71       False\n"
     ]
    }
   ],
   "source": [
    "result.errors(method='zfit_error')\n",
    "result.errors(method='minuit_minos')\n",
    "print(result)"
   ]
  },
  {
   "cell_type": "markdown",
   "metadata": {},
   "source": [
    "We see that both methods agree with each other!"
   ]
  },
  {
   "cell_type": "code",
   "execution_count": 58,
   "metadata": {},
   "outputs": [
    {
     "data": {
      "text/plain": [
       "{'value': [1, -3, 2],\n",
       " 'lower': [-2, -5, -5],\n",
       " 'upper': [2, 4, 5],\n",
       " 'step_size': [0.1, 0.1, 0.1],\n",
       " 'name': ['a', 'b', 'c']}"
      ]
     },
     "execution_count": 58,
     "metadata": {},
     "output_type": "execute_result"
    }
   ],
   "source": [
    "params"
   ]
  },
  {
   "cell_type": "markdown",
   "metadata": {},
   "source": [
    "### chaining minimizers with init\n",
    "\n",
    "The third argument to `minimize` contains additional information, it has to be a `FitResult`. This encodes the state of the minimizers and allows to \"chain\" minimizers!\n",
    "\n",
    "We can either give loss and params as well *or, if we want to continue the exact same minimization*, just the result. The loss and params will automatically be taken from it."
   ]
  },
  {
   "cell_type": "code",
   "execution_count": 71,
   "metadata": {},
   "outputs": [
    {
     "data": {
      "text/plain": [
       "\u001B[1mFitResult\u001B[22m of\n",
       "<SimpleLoss model=[] data=[] constraints=[]> \n",
       "with\n",
       "<Minuit Minuit tol=1e-06>\n",
       "\n",
       "╒═════════╤═════════════╤══════════════════╤═════════╤═════════════╕\n",
       "│ valid   │ converged   │ param at limit   │ edm     │ min value   │\n",
       "╞═════════╪═════════════╪══════════════════╪═════════╪═════════════╡\n",
       "│ \u001B[48;5;10mTrue\u001B[0m    │ True\u001B[0m        │ False\u001B[0m            │ 2.5e-12 │ 0.0002693   │\n",
       "╘═════════╧═════════════╧══════════════════╧═════════╧═════════════╛\n",
       "\n",
       "\u001B[1mParameters\n",
       "\u001B[22mname      value    at limit\n",
       "------  -------  ----------\n",
       "a           0.1       False\u001B[0m\n",
       "b       0.09488       False\u001B[0m\n",
       "c           0.1       False\u001B[0m"
      ]
     },
     "execution_count": 71,
     "metadata": {},
     "output_type": "execute_result"
    }
   ],
   "source": [
    "minimizer2 = zfit.minimize.Minuit(tol=1e-6)\n",
    "minimizer2.minimize(result)"
   ]
  },
  {
   "cell_type": "markdown",
   "metadata": {},
   "source": [
    "This allows to have first a more global minimizer and then a more local one."
   ]
  },
  {
   "cell_type": "markdown",
   "metadata": {},
   "source": [
    "## Creating a custom minimizer\n",
    "\n",
    "It wouldn't be a zfit feature if there wasn't a straightforward way to build your own minimizer ;)"
   ]
  },
  {
   "cell_type": "code",
   "execution_count": null,
   "metadata": {},
   "outputs": [],
   "source": []
  }
 ],
 "metadata": {
  "kernelspec": {
   "display_name": "Python 3 (ipykernel)",
   "language": "python",
   "name": "python3"
  },
  "language_info": {
   "codemirror_mode": {
    "name": "ipython",
    "version": 3
   },
   "file_extension": ".py",
   "mimetype": "text/x-python",
   "name": "python",
   "nbconvert_exporter": "python",
   "pygments_lexer": "ipython3",
   "version": "3.9.6"
  }
 },
 "nbformat": 4,
 "nbformat_minor": 1
}